{
 "cells": [
  {
   "cell_type": "code",
   "execution_count": 1,
   "metadata": {},
   "outputs": [],
   "source": [
    "import numpy as np"
   ]
  },
  {
   "cell_type": "code",
   "execution_count": 2,
   "metadata": {},
   "outputs": [
    {
     "name": "stdout",
     "output_type": "stream",
     "text": [
      "[10 20 30]\n"
     ]
    }
   ],
   "source": [
    "liste = [10,20,30]\n",
    "vector = np.array(liste)\n",
    "print(vector)"
   ]
  },
  {
   "cell_type": "code",
   "execution_count": 3,
   "metadata": {},
   "outputs": [
    {
     "name": "stdout",
     "output_type": "stream",
     "text": [
      "[[ 5 10 15]\n",
      " [20 25 30]\n",
      " [35 40 45]]\n"
     ]
    }
   ],
   "source": [
    "liste = [[5,10,15],[20,25,30],[35,40,45]]\n",
    "matrix = np.array(liste)\n",
    "print(matrix)"
   ]
  },
  {
   "cell_type": "code",
   "execution_count": 4,
   "metadata": {},
   "outputs": [
    {
     "name": "stdout",
     "output_type": "stream",
     "text": [
      "(3,)\n",
      "(3, 3)\n"
     ]
    }
   ],
   "source": [
    "print(vector.shape)\n",
    "print(matrix.shape)"
   ]
  },
  {
   "cell_type": "code",
   "execution_count": 6,
   "metadata": {
    "scrolled": true
   },
   "outputs": [
    {
     "name": "stdout",
     "output_type": "stream",
     "text": [
      "(3258, 5)\n",
      "<class 'numpy.ndarray'>\n"
     ]
    }
   ],
   "source": [
    "# fonction numpy pour lire un dataset\n",
    "word_alcol = np.genfromtxt('world_alcohol.csv',delimiter=',')\n",
    "print(word_alcol.shape)\n",
    "print(type(word_alcol))"
   ]
  },
  {
   "cell_type": "code",
   "execution_count": 7,
   "metadata": {},
   "outputs": [
    {
     "name": "stdout",
     "output_type": "stream",
     "text": [
      "float64\n"
     ]
    }
   ],
   "source": [
    "world_alcol_dtype = word_alcol.dtype\n",
    "print(world_alcol_dtype)"
   ]
  },
  {
   "cell_type": "code",
   "execution_count": 8,
   "metadata": {},
   "outputs": [
    {
     "data": {
      "text/plain": [
       "array([[      nan,       nan,       nan,       nan,       nan],\n",
       "       [1.986e+03,       nan,       nan,       nan, 0.000e+00],\n",
       "       [1.986e+03,       nan,       nan,       nan, 5.000e-01],\n",
       "       ...,\n",
       "       [1.986e+03,       nan,       nan,       nan, 2.540e+00],\n",
       "       [1.987e+03,       nan,       nan,       nan, 0.000e+00],\n",
       "       [1.986e+03,       nan,       nan,       nan, 5.150e+00]])"
      ]
     },
     "execution_count": 8,
     "metadata": {},
     "output_type": "execute_result"
    }
   ],
   "source": [
    "word_alcol"
   ]
  },
  {
   "cell_type": "code",
   "execution_count": 75,
   "metadata": {},
   "outputs": [
    {
     "data": {
      "text/plain": [
       "array([['1986', 'Western Pacific', 'Viet Nam', 'Wine', '0'],\n",
       "       ['1986', 'Americas', 'Uruguay', 'Other', '0.5'],\n",
       "       ['1985', 'Africa', \"Cte d'Ivoire\", 'Wine', '1.62'],\n",
       "       ...,\n",
       "       ['1986', 'Europe', 'Switzerland', 'Spirits', '2.54'],\n",
       "       ['1987', 'Western Pacific', 'Papua New Guinea', 'Other', '0'],\n",
       "       ['1986', 'Africa', 'Swaziland', 'Other', '5.15']], dtype='<U75')"
      ]
     },
     "execution_count": 75,
     "metadata": {},
     "output_type": "execute_result"
    }
   ],
   "source": [
    "word_alcohol = np.genfromtxt('world_alcohol.csv',delimiter=\",\",dtype=\"U75\",skip_header=1)\n",
    "word_alcohol"
   ]
  },
  {
   "cell_type": "code",
   "execution_count": 14,
   "metadata": {},
   "outputs": [
    {
     "name": "stdout",
     "output_type": "stream",
     "text": [
      "1.62\n",
      "Uruguay\n"
     ]
    }
   ],
   "source": [
    "ivoire_1985 = word_alcohol[2,4]\n",
    "second_contry = word_alcohol[1,2]\n",
    "print(ivoire_1985)\n",
    "print(second_contry)\n"
   ]
  },
  {
   "cell_type": "code",
   "execution_count": 17,
   "metadata": {},
   "outputs": [
    {
     "name": "stdout",
     "output_type": "stream",
     "text": [
      "['Viet Nam' 'Uruguay' \"Cte d'Ivoire\" ... 'Switzerland' 'Papua New Guinea'\n",
      " 'Swaziland']\n"
     ]
    }
   ],
   "source": [
    "country = word_alcohol[:,2]\n",
    "print(country)"
   ]
  },
  {
   "cell_type": "code",
   "execution_count": 19,
   "metadata": {},
   "outputs": [
    {
     "name": "stdout",
     "output_type": "stream",
     "text": [
      "['0' '0.5' '1.62' ... '2.54' '0' '5.15']\n"
     ]
    }
   ],
   "source": [
    "alcol_consomtion = word_alcohol[:,4]\n",
    "print(alcol_consomtion)"
   ]
  },
  {
   "cell_type": "code",
   "execution_count": 22,
   "metadata": {},
   "outputs": [],
   "source": [
    "contry_canada = word_alcohol[:,2]=='Canada'"
   ]
  },
  {
   "cell_type": "code",
   "execution_count": 23,
   "metadata": {},
   "outputs": [
    {
     "name": "stdout",
     "output_type": "stream",
     "text": [
      "[False False False ... False False False]\n"
     ]
    }
   ],
   "source": [
    "print(contry_canada)"
   ]
  },
  {
   "cell_type": "code",
   "execution_count": 26,
   "metadata": {},
   "outputs": [
    {
     "name": "stdout",
     "output_type": "stream",
     "text": [
      "[False False False ... False False False]\n"
     ]
    }
   ],
   "source": [
    "year_1984 = word_alcohol[:,0] == '1984'\n",
    "print(year_1984)"
   ]
  },
  {
   "cell_type": "code",
   "execution_count": 30,
   "metadata": {},
   "outputs": [],
   "source": [
    "country_is_algeria =  word_alcohol[:,2]==\"Algeria\"\n",
    "contry_algeria = word_alcohol[country_is_algeria]"
   ]
  },
  {
   "cell_type": "code",
   "execution_count": 31,
   "metadata": {},
   "outputs": [
    {
     "data": {
      "text/plain": [
       "array([['1984', 'Africa', 'Algeria', 'Spirits', '0.01'],\n",
       "       ['1987', 'Africa', 'Algeria', 'Beer', '0.17'],\n",
       "       ['1987', 'Africa', 'Algeria', 'Spirits', '0.01'],\n",
       "       ['1986', 'Africa', 'Algeria', 'Wine', '0.1'],\n",
       "       ['1984', 'Africa', 'Algeria', 'Other', '0'],\n",
       "       ['1989', 'Africa', 'Algeria', 'Beer', '0.16'],\n",
       "       ['1989', 'Africa', 'Algeria', 'Spirits', '0.01'],\n",
       "       ['1989', 'Africa', 'Algeria', 'Wine', '0.23'],\n",
       "       ['1986', 'Africa', 'Algeria', 'Spirits', '0.01'],\n",
       "       ['1984', 'Africa', 'Algeria', 'Wine', '0.12'],\n",
       "       ['1985', 'Africa', 'Algeria', 'Beer', '0.19'],\n",
       "       ['1985', 'Africa', 'Algeria', 'Other', '0'],\n",
       "       ['1986', 'Africa', 'Algeria', 'Beer', '0.18'],\n",
       "       ['1985', 'Africa', 'Algeria', 'Wine', '0.11'],\n",
       "       ['1986', 'Africa', 'Algeria', 'Other', '0'],\n",
       "       ['1989', 'Africa', 'Algeria', 'Other', '0'],\n",
       "       ['1987', 'Africa', 'Algeria', 'Other', '0'],\n",
       "       ['1984', 'Africa', 'Algeria', 'Beer', '0.2'],\n",
       "       ['1985', 'Africa', 'Algeria', 'Spirits', '0.01'],\n",
       "       ['1987', 'Africa', 'Algeria', 'Wine', '0.1']], dtype='<U75')"
      ]
     },
     "execution_count": 31,
     "metadata": {},
     "output_type": "execute_result"
    }
   ],
   "source": [
    "contry_algeria"
   ]
  },
  {
   "cell_type": "code",
   "execution_count": 32,
   "metadata": {},
   "outputs": [
    {
     "data": {
      "text/plain": [
       "array([False, False, False, ..., False, False, False])"
      ]
     },
     "execution_count": 32,
     "metadata": {},
     "output_type": "execute_result"
    }
   ],
   "source": [
    "contry_Algeria_1986 = (word_alcohol[:,2]==\"Algeria\" ) & (word_alcohol[:,0]==\"1986\")\n",
    "contry_Algeria_1986"
   ]
  },
  {
   "cell_type": "code",
   "execution_count": 33,
   "metadata": {},
   "outputs": [
    {
     "data": {
      "text/plain": [
       "array([['1986', 'Africa', 'Algeria', 'Wine', '0.1'],\n",
       "       ['1986', 'Africa', 'Algeria', 'Spirits', '0.01'],\n",
       "       ['1986', 'Africa', 'Algeria', 'Beer', '0.18'],\n",
       "       ['1986', 'Africa', 'Algeria', 'Other', '0']], dtype='<U75')"
      ]
     },
     "execution_count": 33,
     "metadata": {},
     "output_type": "execute_result"
    }
   ],
   "source": [
    "word_alcohol[contry_Algeria_1986]"
   ]
  },
  {
   "cell_type": "code",
   "execution_count": 55,
   "metadata": {},
   "outputs": [],
   "source": [
    "word_alcohol[word_alcohol[:,0]==\"1986\",0] = \"2018\""
   ]
  },
  {
   "cell_type": "code",
   "execution_count": 58,
   "metadata": {},
   "outputs": [],
   "source": [
    "word_alcohol[word_alcohol[:,3] == \"Wine\",3] = \"Biere\""
   ]
  },
  {
   "cell_type": "code",
   "execution_count": 59,
   "metadata": {},
   "outputs": [
    {
     "data": {
      "text/plain": [
       "array([['2018', 'Western Pacific', 'Viet Nam', 'Biere', '0'],\n",
       "       ['2018', 'Americas', 'Uruguay', 'Other', '0.5'],\n",
       "       ['1985', 'Africa', \"Cte d'Ivoire\", 'Biere', '1.62'],\n",
       "       ...,\n",
       "       ['2018', 'Europe', 'Switzerland', 'Spirits', '2.54'],\n",
       "       ['1987', 'Western Pacific', 'Papua New Guinea', 'Other', '0'],\n",
       "       ['2018', 'Africa', 'Swaziland', 'Other', '5.15']], dtype='<U75')"
      ]
     },
     "execution_count": 59,
     "metadata": {},
     "output_type": "execute_result"
    }
   ],
   "source": [
    "word_alcohol"
   ]
  },
  {
   "cell_type": "code",
   "execution_count": 76,
   "metadata": {},
   "outputs": [],
   "source": [
    "is_empty = word_alcohol[:,4]==''\n",
    "word_alcohol[is_empty,4] = '0'"
   ]
  },
  {
   "cell_type": "code",
   "execution_count": 77,
   "metadata": {},
   "outputs": [
    {
     "data": {
      "text/plain": [
       "array([['1986', 'Western Pacific', 'Viet Nam', 'Wine', '0'],\n",
       "       ['1986', 'Americas', 'Uruguay', 'Other', '0.5'],\n",
       "       ['1985', 'Africa', \"Cte d'Ivoire\", 'Wine', '1.62'],\n",
       "       ...,\n",
       "       ['1986', 'Europe', 'Switzerland', 'Spirits', '2.54'],\n",
       "       ['1987', 'Western Pacific', 'Papua New Guinea', 'Other', '0'],\n",
       "       ['1986', 'Africa', 'Swaziland', 'Other', '5.15']], dtype='<U75')"
      ]
     },
     "execution_count": 77,
     "metadata": {},
     "output_type": "execute_result"
    }
   ],
   "source": [
    "word_alcohol"
   ]
  },
  {
   "cell_type": "code",
   "execution_count": 85,
   "metadata": {},
   "outputs": [],
   "source": [
    "alcol_consomtion = word_alcohol[:,4]\n",
    "alcol_consomtion = alcol_consomtion.astype(float)"
   ]
  },
  {
   "cell_type": "code",
   "execution_count": 88,
   "metadata": {},
   "outputs": [],
   "source": [
    "total_consomtion = alcol_consomtion.sum()\n",
    "average_consomtion = alcol_consomtion.mean()"
   ]
  },
  {
   "cell_type": "code",
   "execution_count": 89,
   "metadata": {},
   "outputs": [
    {
     "name": "stdout",
     "output_type": "stream",
     "text": [
      "3908.96\n"
     ]
    }
   ],
   "source": [
    "print(total_consomtion)"
   ]
  },
  {
   "cell_type": "code",
   "execution_count": 90,
   "metadata": {},
   "outputs": [
    {
     "name": "stdout",
     "output_type": "stream",
     "text": [
      "1.2001719373656738\n"
     ]
    }
   ],
   "source": [
    "print(average_consomtion)"
   ]
  },
  {
   "cell_type": "code",
   "execution_count": 96,
   "metadata": {},
   "outputs": [],
   "source": [
    "canada_1986 = (word_alcohol[:,0] == '1986') & (word_alcohol[:,2]==\"Canada\" )\n",
    "canada_consomtion = word_alcohol[canada_1986,4].astype(float)\n",
    "total_consomtion_canada = canada_consomtion.sum()"
   ]
  },
  {
   "cell_type": "code",
   "execution_count": 98,
   "metadata": {},
   "outputs": [
    {
     "name": "stdout",
     "output_type": "stream",
     "text": [
      "9.31\n"
     ]
    }
   ],
   "source": [
    "print(total_consomtion_canada)"
   ]
  },
  {
   "cell_type": "code",
   "execution_count": 116,
   "metadata": {},
   "outputs": [
    {
     "name": "stdout",
     "output_type": "stream",
     "text": [
      "{'Viet Nam': 0.8300000000000002, 'Uruguay': 37.22, 'Colombia': 32.900000000000006, 'Antigua and Barbuda': 20.91, 'Myanmar': 1.3000000000000003, 'Italy': 62.29, 'Sierra Leone': 22.88, 'Micronesia (Federated States of)': 0.0, 'Russian Federation': 31.82, 'Sweden': 35.47, 'Czech Republic': 67.75, 'Mexico': 23.06, 'Malta': 27.43, 'Saudi Arabia': 1.23, 'Togo': 13.13, 'Madagascar': 6.570000000000001, 'Pakistan': 0.09999999999999999, 'Bolivia (Plurinational State of)': 15.8, 'Ukraine': 27.419999999999998, 'Sri Lanka': 1.05, 'Bahamas': 69.83999999999999, 'Lebanon': 19.060000000000002, 'Eritrea': 2.0700000000000003, 'Spain': 71.02000000000001, 'Gambia': 8.72, 'Nicaragua': 15.879999999999999, 'Belgium': 63.89, 'Zambia': 15.499999999999998, 'Uganda': 37.64000000000001, 'Cabo Verde': 14.19, 'Saint Kitts and Nevis': 19.290000000000003, 'Norway': 25.93, 'Australia': 62.480000000000004, 'Venezuela (Bolivarian Republic of)': 42.300000000000004, 'Cyprus': 42.019999999999996, 'Vanuatu': 9.290000000000001, 'Syrian Arab Republic': 4.2, 'Bhutan': 2.24, 'Guinea': 0.6600000000000001, 'Solomon Islands': 4.3999999999999995, 'Thailand': 17.43, 'United Kingdom of Great Britain and Northern Ireland': 50.18000000000001, 'Dominican Republic': 19.77, 'Indonesia': 0.33, 'Algeria': 1.6100000000000003, 'Samoa': 10.839999999999998, 'Bangladesh': 0.0, 'Equatorial Guinea': 11.06, 'Senegal': 2.5400000000000005, 'Qatar': 9.269999999999998, 'Tunisia': 5.3999999999999995, 'Kyrgyzstan': 17.77, 'Costa Rica': 24.4, \"Lao People's Democratic Republic\": 24.950000000000003, 'Swaziland': 33.64, 'Chad': 1.6600000000000001, 'Gabon': 64.37, 'Portugal': 75.50999999999999, 'Mauritania': 0.16, 'Albania': 7.92, 'Mauritius': 15.68, 'Mozambique': 1.56, 'Ghana': 7.6499999999999995, 'Denmark': 60.25, 'Niger': 0.7900000000000001, 'Angola': 9.61, 'Finland': 42.8, 'Morocco': 3.27, 'Singapore': 9.09, 'Germany': 74.48, 'Luxembourg': 77.36999999999999, 'Nepal': 0.09, 'United Republic of Tanzania': 34.89000000000001, 'Yemen': 1.09, 'Iraq': 3.7099999999999995, 'Burundi': 40.419999999999995, 'Liberia': 22.520000000000003, 'Central African Republic': 13.54, 'Saint Lucia': 49.28, 'Malaysia': 3.3100000000000005, \"Democratic People's Republic of Korea\": 17.580000000000002, 'Israel': 11.889999999999999, 'Botswana': 22.05, 'Honduras': 10.28, 'Rwanda': 35.51, 'France': 81.56, 'Greece': 51.36000000000001, 'United States of America': 48.56, 'Mongolia': 14.4, 'Seychelles': 16.08, 'Guinea-Bissau': 13.520000000000001, 'Iceland': 27.230000000000004, 'Netherlands': 52.160000000000004, 'Benin': 6.8500000000000005, 'Kuwait': 0.0, 'China': 13.280000000000001, 'Ecuador': 12.23, 'Chile': 46.83, 'Austria': 68.2, 'Cameroon': 31.54, 'Democratic Republic of the Congo': 11.579999999999998, 'Afghanistan': 0.0, 'Somalia': 0.05, 'Malawi': 5.930000000000001, 'Kenya': 13.61, 'South Africa': 44.199999999999996, 'Namibia': 1.29, 'Egypt': 1.9500000000000002, 'Papua New Guinea': 6.18, 'Brunei Darussalam': 15.57, 'Congo': 25.199999999999996, 'El Salvador': 11.589999999999998, 'Zimbabwe': 31.07, 'Burkina Faso': 18.18, 'Nigeria': 35.940000000000005, 'Sudan': 1.16, 'Libya': 0.0, \"Cte d'Ivoire\": 13.37, 'Lesotho': 12.27, 'Panama': 24.59, 'Turkey': 4.4399999999999995, 'Philippines': 21.169999999999998, 'Hungary': 82.22, 'Sao Tome and Principe': 6.83, 'Bahrain': 27.54, 'Peru': 28.460000000000004, 'Republic of Korea': 50.9, 'Bulgaria': 56.1, 'Mali': 2.9599999999999995, 'India': 6.89, 'Slovakia': 67.38999999999999, 'Jamaica': 14.799999999999999, 'Cuba': 20.490000000000002, 'Canada': 46.46, 'Jordan': 1.39, 'Kiribati': 2.77, 'New Zealand': 60.05000000000001, 'Ethiopia': 3.42, 'Argentina': 63.06, 'Guyana': 33.55, 'Latvia': 43.8, 'Haiti': 27.509999999999998, 'Fiji': 9.660000000000002, 'Comoros': 1.2200000000000002, 'Slovenia': 80.05, 'Lithuania': 0.0, 'Djibouti': 10.14, 'Poland': 44.73, 'Guatemala': 13.89, 'Romania': 44.8, 'Cambodia': 1.32, 'Trinidad and Tobago': 25.049999999999997, 'Japan': 36.72, 'Iran (Islamic Republic of)': 0.0, 'United Arab Emirates': 37.300000000000004, 'Suriname': 25.619999999999997, 'Brazil': 21.1, 'Ireland': 56.709999999999994, 'Switzerland': 70.64, 'Belarus': 7.9799999999999995, 'Oman': 2.6, 'Belize': 22.750000000000004, 'Paraguay': 35.22}\n"
     ]
    }
   ],
   "source": [
    "#consommation total par pay\n",
    "total_alcol = {}\n",
    "is_1989 = word_alcohol[:,0]==\"1986\"\n",
    "for pay in word_alcohol[is_1989,2]:\n",
    "    consom_pay = word_alcohol[:,2] == pay\n",
    "    total_alcol[pay] = word_alcohol[consom_pay,4].astype(float).sum()\n",
    "\n",
    "print(total_alcol)\n",
    "        "
   ]
  },
  {
   "cell_type": "code",
   "execution_count": 118,
   "metadata": {},
   "outputs": [
    {
     "name": "stdout",
     "output_type": "stream",
     "text": [
      "Pays:  Hungary\n",
      "consommation:  82.22\n"
     ]
    }
   ],
   "source": [
    "#pay qui consomme plus d'alcol\n",
    "contry = ''\n",
    "consommation = 0\n",
    "for t in total_alcol:\n",
    "    if( total_alcol[t] > consommation):\n",
    "        consommation = total_alcol[t]\n",
    "        contry = t\n",
    "print ('Pays: ',contry)\n",
    "print('consommation: ',consommation)"
   ]
  },
  {
   "cell_type": "code",
   "execution_count": null,
   "metadata": {},
   "outputs": [],
   "source": []
  }
 ],
 "metadata": {
  "kernelspec": {
   "display_name": "Python 3",
   "language": "python",
   "name": "python3"
  },
  "language_info": {
   "codemirror_mode": {
    "name": "ipython",
    "version": 3
   },
   "file_extension": ".py",
   "mimetype": "text/x-python",
   "name": "python",
   "nbconvert_exporter": "python",
   "pygments_lexer": "ipython3",
   "version": "3.7.6"
  }
 },
 "nbformat": 4,
 "nbformat_minor": 4
}
