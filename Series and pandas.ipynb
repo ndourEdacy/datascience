{
 "cells": [
  {
   "cell_type": "code",
   "execution_count": 1,
   "metadata": {},
   "outputs": [],
   "source": [
    "import pandas as pd\n"
   ]
  },
  {
   "cell_type": "code",
   "execution_count": 2,
   "metadata": {},
   "outputs": [
    {
     "data": {
      "text/html": [
       "<div>\n",
       "<style scoped>\n",
       "    .dataframe tbody tr th:only-of-type {\n",
       "        vertical-align: middle;\n",
       "    }\n",
       "\n",
       "    .dataframe tbody tr th {\n",
       "        vertical-align: top;\n",
       "    }\n",
       "\n",
       "    .dataframe thead th {\n",
       "        text-align: right;\n",
       "    }\n",
       "</style>\n",
       "<table border=\"1\" class=\"dataframe\">\n",
       "  <thead>\n",
       "    <tr style=\"text-align: right;\">\n",
       "      <th></th>\n",
       "      <th>FILM</th>\n",
       "      <th>RottenTomatoes</th>\n",
       "      <th>RottenTomatoes_User</th>\n",
       "      <th>Metacritic</th>\n",
       "      <th>Metacritic_User</th>\n",
       "      <th>IMDB</th>\n",
       "      <th>Fandango_Stars</th>\n",
       "      <th>Fandango_Ratingvalue</th>\n",
       "      <th>RT_norm</th>\n",
       "      <th>RT_user_norm</th>\n",
       "      <th>...</th>\n",
       "      <th>IMDB_norm</th>\n",
       "      <th>RT_norm_round</th>\n",
       "      <th>RT_user_norm_round</th>\n",
       "      <th>Metacritic_norm_round</th>\n",
       "      <th>Metacritic_user_norm_round</th>\n",
       "      <th>IMDB_norm_round</th>\n",
       "      <th>Metacritic_user_vote_count</th>\n",
       "      <th>IMDB_user_vote_count</th>\n",
       "      <th>Fandango_votes</th>\n",
       "      <th>Fandango_Difference</th>\n",
       "    </tr>\n",
       "  </thead>\n",
       "  <tbody>\n",
       "    <tr>\n",
       "      <th>0</th>\n",
       "      <td>Avengers: Age of Ultron (2015)</td>\n",
       "      <td>74</td>\n",
       "      <td>86</td>\n",
       "      <td>66</td>\n",
       "      <td>7.1</td>\n",
       "      <td>7.8</td>\n",
       "      <td>5.0</td>\n",
       "      <td>4.5</td>\n",
       "      <td>3.70</td>\n",
       "      <td>4.3</td>\n",
       "      <td>...</td>\n",
       "      <td>3.90</td>\n",
       "      <td>3.5</td>\n",
       "      <td>4.5</td>\n",
       "      <td>3.5</td>\n",
       "      <td>3.5</td>\n",
       "      <td>4.0</td>\n",
       "      <td>1330</td>\n",
       "      <td>271107</td>\n",
       "      <td>14846</td>\n",
       "      <td>0.5</td>\n",
       "    </tr>\n",
       "    <tr>\n",
       "      <th>1</th>\n",
       "      <td>Cinderella (2015)</td>\n",
       "      <td>85</td>\n",
       "      <td>80</td>\n",
       "      <td>67</td>\n",
       "      <td>7.5</td>\n",
       "      <td>7.1</td>\n",
       "      <td>5.0</td>\n",
       "      <td>4.5</td>\n",
       "      <td>4.25</td>\n",
       "      <td>4.0</td>\n",
       "      <td>...</td>\n",
       "      <td>3.55</td>\n",
       "      <td>4.5</td>\n",
       "      <td>4.0</td>\n",
       "      <td>3.5</td>\n",
       "      <td>4.0</td>\n",
       "      <td>3.5</td>\n",
       "      <td>249</td>\n",
       "      <td>65709</td>\n",
       "      <td>12640</td>\n",
       "      <td>0.5</td>\n",
       "    </tr>\n",
       "  </tbody>\n",
       "</table>\n",
       "<p>2 rows × 22 columns</p>\n",
       "</div>"
      ],
      "text/plain": [
       "                             FILM  RottenTomatoes  RottenTomatoes_User  \\\n",
       "0  Avengers: Age of Ultron (2015)              74                   86   \n",
       "1               Cinderella (2015)              85                   80   \n",
       "\n",
       "   Metacritic  Metacritic_User  IMDB  Fandango_Stars  Fandango_Ratingvalue  \\\n",
       "0          66              7.1   7.8             5.0                   4.5   \n",
       "1          67              7.5   7.1             5.0                   4.5   \n",
       "\n",
       "   RT_norm  RT_user_norm  ...  IMDB_norm  RT_norm_round  RT_user_norm_round  \\\n",
       "0     3.70           4.3  ...       3.90            3.5                 4.5   \n",
       "1     4.25           4.0  ...       3.55            4.5                 4.0   \n",
       "\n",
       "   Metacritic_norm_round  Metacritic_user_norm_round  IMDB_norm_round  \\\n",
       "0                    3.5                         3.5              4.0   \n",
       "1                    3.5                         4.0              3.5   \n",
       "\n",
       "   Metacritic_user_vote_count  IMDB_user_vote_count  Fandango_votes  \\\n",
       "0                        1330                271107           14846   \n",
       "1                         249                 65709           12640   \n",
       "\n",
       "   Fandango_Difference  \n",
       "0                  0.5  \n",
       "1                  0.5  \n",
       "\n",
       "[2 rows x 22 columns]"
      ]
     },
     "execution_count": 2,
     "metadata": {},
     "output_type": "execute_result"
    }
   ],
   "source": [
    "fandango = pd.read_csv('fandango_score_comparaison.csv')\n",
    "fandango.head(2)"
   ]
  },
  {
   "cell_type": "code",
   "execution_count": 4,
   "metadata": {},
   "outputs": [
    {
     "data": {
      "text/plain": [
       "0    Avengers: Age of Ultron (2015)\n",
       "1                 Cinderella (2015)\n",
       "2                    Ant-Man (2015)\n",
       "3            Do You Believe? (2015)\n",
       "4     Hot Tub Time Machine 2 (2015)\n",
       "Name: FILM, dtype: object"
      ]
     },
     "execution_count": 4,
     "metadata": {},
     "output_type": "execute_result"
    }
   ],
   "source": [
    "series_film = fandango['FILM']\n",
    "series_film[:5]"
   ]
  },
  {
   "cell_type": "code",
   "execution_count": 5,
   "metadata": {},
   "outputs": [
    {
     "data": {
      "text/plain": [
       "0    74\n",
       "1    85\n",
       "2    80\n",
       "3    18\n",
       "4    14\n",
       "Name: RottenTomatoes, dtype: int64"
      ]
     },
     "execution_count": 5,
     "metadata": {},
     "output_type": "execute_result"
    }
   ],
   "source": [
    "serie_rt = fandango['RottenTomatoes']\n",
    "serie_rt[:5]"
   ]
  },
  {
   "cell_type": "code",
   "execution_count": 10,
   "metadata": {},
   "outputs": [],
   "source": [
    "from pandas import Series"
   ]
  },
  {
   "cell_type": "code",
   "execution_count": 13,
   "metadata": {},
   "outputs": [
    {
     "name": "stdout",
     "output_type": "stream",
     "text": [
      "Avengers: Age of Ultron (2015)                74\n",
      "Cinderella (2015)                             85\n",
      "Ant-Man (2015)                                80\n",
      "Do You Believe? (2015)                        18\n",
      "Hot Tub Time Machine 2 (2015)                 14\n",
      "                                            ... \n",
      "Mr. Holmes (2015)                             87\n",
      "'71 (2015)                                    97\n",
      "Two Days, One Night (2014)                    97\n",
      "Gett: The Trial of Viviane Amsalem (2015)    100\n",
      "Kumiko, The Treasure Hunter (2015)            87\n",
      "Length: 146, dtype: int64\n"
     ]
    }
   ],
   "source": [
    "film_name = series_film.values\n",
    "rt_cols = serie_rt.values\n",
    "series_film_index = Series(data=rt_cols,index=film_name)\n",
    "print(series_film_index)"
   ]
  },
  {
   "cell_type": "code",
   "execution_count": null,
   "metadata": {},
   "outputs": [],
   "source": []
  },
  {
   "cell_type": "code",
   "execution_count": 16,
   "metadata": {},
   "outputs": [
    {
     "data": {
      "text/plain": [
       "'71 (2015)                    97\n",
       "5 Flights Up (2015)           52\n",
       "A Little Chaos (2015)         40\n",
       "A Most Violent Year (2014)    90\n",
       "About Elly (2015)             97\n",
       "dtype: int64"
      ]
     },
     "execution_count": 16,
     "metadata": {},
     "output_type": "execute_result"
    }
   ],
   "source": [
    "original_index = series_film_index.index\n",
    "index_sorted = sorted(original_index)\n",
    "film_reindex = series_film_index.reindex(index_sorted)\n",
    "film_reindex[:5]"
   ]
  },
  {
   "cell_type": "code",
   "execution_count": 19,
   "metadata": {},
   "outputs": [
    {
     "name": "stdout",
     "output_type": "stream",
     "text": [
      "'71 (2015)                          97\n",
      "5 Flights Up (2015)                 52\n",
      "A Little Chaos (2015)               40\n",
      "A Most Violent Year (2014)          90\n",
      "About Elly (2015)                   97\n",
      "                                    ..\n",
      "What We Do in the Shadows (2015)    96\n",
      "When Marnie Was There (2015)        89\n",
      "While We're Young (2015)            83\n",
      "Wild Tales (2014)                   96\n",
      "Woman in Gold (2015)                52\n",
      "Length: 146, dtype: int64\n"
     ]
    }
   ],
   "source": [
    "sc2 = film_reindex.sort_index()\n",
    "sc3 = film_reindex.sort_values()\n",
    "print(sc2)\n"
   ]
  },
  {
   "cell_type": "code",
   "execution_count": 20,
   "metadata": {},
   "outputs": [
    {
     "name": "stdout",
     "output_type": "stream",
     "text": [
      "Paul Blart: Mall Cop 2 (2015)                  5\n",
      "Hitman: Agent 47 (2015)                        7\n",
      "Hot Pursuit (2015)                             8\n",
      "Fantastic Four (2015)                          9\n",
      "Taken 3 (2015)                                 9\n",
      "                                            ... \n",
      "Leviathan (2014)                              99\n",
      "Timbuktu (2015)                               99\n",
      "Phoenix (2015)                                99\n",
      "Seymour: An Introduction (2015)              100\n",
      "Gett: The Trial of Viviane Amsalem (2015)    100\n",
      "Length: 146, dtype: int64\n"
     ]
    }
   ],
   "source": [
    "print(sc3)"
   ]
  },
  {
   "cell_type": "code",
   "execution_count": 21,
   "metadata": {},
   "outputs": [
    {
     "name": "stdout",
     "output_type": "stream",
     "text": [
      "'71 (2015)                          4.85\n",
      "5 Flights Up (2015)                 2.60\n",
      "A Little Chaos (2015)               2.00\n",
      "A Most Violent Year (2014)          4.50\n",
      "About Elly (2015)                   4.85\n",
      "                                    ... \n",
      "What We Do in the Shadows (2015)    4.80\n",
      "When Marnie Was There (2015)        4.45\n",
      "While We're Young (2015)            4.15\n",
      "Wild Tales (2014)                   4.80\n",
      "Woman in Gold (2015)                2.60\n",
      "Length: 146, dtype: float64\n"
     ]
    }
   ],
   "source": [
    "serie_normalize = film_reindex/20\n",
    "print(serie_normalize)"
   ]
  },
  {
   "cell_type": "code",
   "execution_count": 22,
   "metadata": {},
   "outputs": [
    {
     "name": "stdout",
     "output_type": "stream",
     "text": [
      "'71 (2015)                          97\n",
      "5 Flights Up (2015)                 52\n",
      "A Most Violent Year (2014)          90\n",
      "About Elly (2015)                   97\n",
      "American Sniper (2015)              72\n",
      "                                    ..\n",
      "What We Do in the Shadows (2015)    96\n",
      "When Marnie Was There (2015)        89\n",
      "While We're Young (2015)            83\n",
      "Wild Tales (2014)                   96\n",
      "Woman in Gold (2015)                52\n",
      "Length: 94, dtype: int64\n"
     ]
    }
   ],
   "source": [
    "criteria1 = film_reindex[film_reindex > 50]\n",
    "print(criteria1)\n"
   ]
  },
  {
   "cell_type": "code",
   "execution_count": 23,
   "metadata": {},
   "outputs": [
    {
     "name": "stdout",
     "output_type": "stream",
     "text": [
      "5 Flights Up (2015)           52\n",
      "A Little Chaos (2015)         40\n",
      "Aloha (2015)                  19\n",
      "American Sniper (2015)        72\n",
      "American Ultra (2015)         46\n",
      "                              ..\n",
      "Unfinished Business (2015)    11\n",
      "Unfriended (2015)             60\n",
      "Vacation (2015)               27\n",
      "Welcome to Me (2015)          71\n",
      "Woman in Gold (2015)          52\n",
      "Length: 85, dtype: int64\n"
     ]
    }
   ],
   "source": [
    "criteria2 = film_reindex[film_reindex < 75]\n",
    "print(criteria2)"
   ]
  },
  {
   "cell_type": "code",
   "execution_count": 27,
   "metadata": {},
   "outputs": [
    {
     "name": "stdout",
     "output_type": "stream",
     "text": [
      "5 Flights Up (2015)                                                       52\n",
      "American Sniper (2015)                                                    72\n",
      "Avengers: Age of Ultron (2015)                                            74\n",
      "Big Eyes (2014)                                                           72\n",
      "Escobar: Paradise Lost (2015)                                             52\n",
      "Focus (2015)                                                              57\n",
      "Inherent Vice (2014)                                                      73\n",
      "Insidious: Chapter 3 (2015)                                               59\n",
      "Into the Woods (2014)                                                     71\n",
      "Jurassic World (2015)                                                     71\n",
      "Maggie (2015)                                                             54\n",
      "Magic Mike XXL (2015)                                                     62\n",
      "Maps to the Stars (2015)                                                  60\n",
      "Minions (2015)                                                            54\n",
      "Paper Towns (2015)                                                        55\n",
      "Pitch Perfect 2 (2015)                                                    67\n",
      "Ricki and the Flash (2015)                                                64\n",
      "Run All Night (2015)                                                      60\n",
      "Saint Laurent (2015)                                                      51\n",
      "Southpaw (2015)                                                           59\n",
      "Spare Parts (2015)                                                        52\n",
      "The 100-Year-Old Man Who Climbed Out the Window and Disappeared (2015)    67\n",
      "The Age of Adaline (2015)                                                 54\n",
      "The DUFF (2015)                                                           71\n",
      "The Hobbit: The Battle of the Five Armies (2014)                          61\n",
      "The Last Five Years (2015)                                                60\n",
      "The Man From U.N.C.L.E. (2015)                                            68\n",
      "The Second Best Exotic Marigold Hotel (2015)                              62\n",
      "The Water Diviner (2015)                                                  63\n",
      "Unbroken (2014)                                                           51\n",
      "Unfriended (2015)                                                         60\n",
      "Welcome to Me (2015)                                                      71\n",
      "Woman in Gold (2015)                                                      52\n",
      "dtype: int64\n"
     ]
    }
   ],
   "source": [
    "critaire_one = film_reindex > 50\n",
    "critaire_two = film_reindex < 75\n",
    "film_criteria  = film_reindex[critaire_one & critaire_two]\n",
    "print(film_criteria)"
   ]
  },
  {
   "cell_type": "code",
   "execution_count": 28,
   "metadata": {},
   "outputs": [],
   "source": [
    "rt_critics = Series(fandango['RottenTomatoes'].values,fandango['FILM'].values)"
   ]
  },
  {
   "cell_type": "code",
   "execution_count": 30,
   "metadata": {},
   "outputs": [],
   "source": [
    "rt_users = Series(fandango['RottenTomatoes_User'].values,fandango['FILM'].values)"
   ]
  },
  {
   "cell_type": "code",
   "execution_count": 31,
   "metadata": {},
   "outputs": [],
   "source": [
    "import numpy as np"
   ]
  },
  {
   "cell_type": "code",
   "execution_count": 37,
   "metadata": {},
   "outputs": [],
   "source": [
    "\n",
    "rt_mean = (rt_critics + rt_users)/2"
   ]
  },
  {
   "cell_type": "code",
   "execution_count": 38,
   "metadata": {},
   "outputs": [
    {
     "name": "stdout",
     "output_type": "stream",
     "text": [
      "Avengers: Age of Ultron (2015)               80.0\n",
      "Cinderella (2015)                            82.5\n",
      "Ant-Man (2015)                               85.0\n",
      "Do You Believe? (2015)                       51.0\n",
      "Hot Tub Time Machine 2 (2015)                21.0\n",
      "                                             ... \n",
      "Mr. Holmes (2015)                            82.5\n",
      "'71 (2015)                                   89.5\n",
      "Two Days, One Night (2014)                   87.5\n",
      "Gett: The Trial of Viviane Amsalem (2015)    90.5\n",
      "Kumiko, The Treasure Hunter (2015)           75.0\n",
      "Length: 146, dtype: float64\n"
     ]
    }
   ],
   "source": [
    "print(rt_mean)"
   ]
  },
  {
   "cell_type": "code",
   "execution_count": null,
   "metadata": {},
   "outputs": [],
   "source": []
  }
 ],
 "metadata": {
  "kernelspec": {
   "display_name": "Python 3",
   "language": "python",
   "name": "python3"
  },
  "language_info": {
   "codemirror_mode": {
    "name": "ipython",
    "version": 3
   },
   "file_extension": ".py",
   "mimetype": "text/x-python",
   "name": "python",
   "nbconvert_exporter": "python",
   "pygments_lexer": "ipython3",
   "version": "3.7.6"
  }
 },
 "nbformat": 4,
 "nbformat_minor": 4
}
